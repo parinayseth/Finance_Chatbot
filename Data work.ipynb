{
 "cells": [
  {
   "cell_type": "code",
   "execution_count": 2,
   "metadata": {},
   "outputs": [],
   "source": [
    "import pandas as pd\n",
    "import json\n"
   ]
  },
  {
   "cell_type": "code",
   "execution_count": 43,
   "metadata": {},
   "outputs": [],
   "source": [
    "json_data = '[ { “date”: “2021-01-01”, “amount”: 1000, “category”: “income”, “description”: “salary” }, { “date”: “2021-01-02”, “amount”: -50, “category”: “groceries”, “description”: “milk and eggs” }, { “date”: “2021-01-03”, “amount”: -100, “category”: “entertainment”, “description”: “movie tickets” }, { “date”: “2021-01-04”, “amount”: -20, “category”: “transportation”, “description”: “bus fare” }, { “date”: “2021-01-05”, “amount”: -200, “category”: “bills”, “description”: “electricity bill” }, { “date”: “2021-01-06”, “amount”: -30, “category”: “groceries”, “description”: “bread and cheese” }, { “date”: “2021-01-07”, “amount”: -150, “category”: “clothing”, “description”: “new shoes” }, { “date”: “2021-01-08”, “amount”: -40, “category”: “healthcare”, “description”: “prescription drugs” }, { “date”: “2021-01-09”, “amount”: -80, “category”: “education”, “description”: “online course” }, { “date”: “2021-01-10”, “amount”: -60, “category”: “entertainment”, “description”: “pizza delivery” }, {“date”: “2021-01-11”, “amount”: -25, “category”: “transportation”, “description”: “taxi ride” }, { “date”: “2021-01-12”, “amount”: -300, “category”:“bills”, “description”:“internet bill” }, { “date”:“2021-01-13”, “amount”:-50, “category”:“groceries”, “description”:“fruits and vegetables” } ]'\n",
    "\n",
    "# Replacing invalid double quotes with valid ones\n",
    "json_data = json_data.replace(\"“\", \"\\\"\").replace(\"”\", \"\\\"\")\n",
    "\n",
    "# Loading JSON data\n",
    "data = json.loads(json_data)\n",
    "\n",
    "# Pretty print the formatted JSON\n",
    "formatted_json = json.dumps(data, indent=4)\n",
    "\n",
    "# Declared top row as headers to further convert json to csv\n",
    "headers = data[0].keys()\n",
    "\n",
    "# Writing the formatted JSON to a new file\n",
    "with open('formatted_data.json', 'w') as json_file:\n",
    "    json_file.write(formatted_json)\n"
   ]
  },
  {
   "cell_type": "code",
   "execution_count": 44,
   "metadata": {},
   "outputs": [],
   "source": [
    "# Converting this json file into new csv file \n",
    "import csv\n",
    "with open('file.csv', 'w') as file:\n",
    "    writer = csv.DictWriter(file, fieldnames=headers)\n",
    "    writer.writeheader()\n",
    "    writer.writerows(data)"
   ]
  },
  {
   "cell_type": "code",
   "execution_count": 54,
   "metadata": {},
   "outputs": [
    {
     "data": {
      "text/html": [
       "<div>\n",
       "<style scoped>\n",
       "    .dataframe tbody tr th:only-of-type {\n",
       "        vertical-align: middle;\n",
       "    }\n",
       "\n",
       "    .dataframe tbody tr th {\n",
       "        vertical-align: top;\n",
       "    }\n",
       "\n",
       "    .dataframe thead th {\n",
       "        text-align: right;\n",
       "    }\n",
       "</style>\n",
       "<table border=\"1\" class=\"dataframe\">\n",
       "  <thead>\n",
       "    <tr style=\"text-align: right;\">\n",
       "      <th></th>\n",
       "      <th>date</th>\n",
       "      <th>amount</th>\n",
       "      <th>category</th>\n",
       "      <th>description</th>\n",
       "    </tr>\n",
       "  </thead>\n",
       "  <tbody>\n",
       "    <tr>\n",
       "      <th>0</th>\n",
       "      <td>2021-01-01</td>\n",
       "      <td>1000</td>\n",
       "      <td>income</td>\n",
       "      <td>salary</td>\n",
       "    </tr>\n",
       "    <tr>\n",
       "      <th>1</th>\n",
       "      <td>2021-01-02</td>\n",
       "      <td>-50</td>\n",
       "      <td>groceries</td>\n",
       "      <td>milk and eggs</td>\n",
       "    </tr>\n",
       "    <tr>\n",
       "      <th>2</th>\n",
       "      <td>2021-01-03</td>\n",
       "      <td>-100</td>\n",
       "      <td>entertainment</td>\n",
       "      <td>movie tickets</td>\n",
       "    </tr>\n",
       "    <tr>\n",
       "      <th>3</th>\n",
       "      <td>2021-01-04</td>\n",
       "      <td>-20</td>\n",
       "      <td>transportation</td>\n",
       "      <td>bus fare</td>\n",
       "    </tr>\n",
       "    <tr>\n",
       "      <th>4</th>\n",
       "      <td>2021-01-05</td>\n",
       "      <td>-200</td>\n",
       "      <td>bills</td>\n",
       "      <td>electricity bill</td>\n",
       "    </tr>\n",
       "  </tbody>\n",
       "</table>\n",
       "</div>"
      ],
      "text/plain": [
       "         date  amount        category       description\n",
       "0  2021-01-01    1000          income            salary\n",
       "1  2021-01-02     -50       groceries     milk and eggs\n",
       "2  2021-01-03    -100   entertainment     movie tickets\n",
       "3  2021-01-04     -20  transportation          bus fare\n",
       "4  2021-01-05    -200           bills  electricity bill"
      ]
     },
     "execution_count": 54,
     "metadata": {},
     "output_type": "execute_result"
    }
   ],
   "source": [
    "# Loading the dataset file\n",
    "df = pd.read_csv('file.csv')\n",
    "\n",
    "# Printing first file rows\n",
    "df.head()"
   ]
  },
  {
   "cell_type": "code",
   "execution_count": 55,
   "metadata": {},
   "outputs": [],
   "source": [
    "#Now adding more dumy data to our dataset using Faker\n",
    "\n"
   ]
  },
  {
   "cell_type": "code",
   "execution_count": null,
   "metadata": {},
   "outputs": [],
   "source": []
  },
  {
   "cell_type": "code",
   "execution_count": null,
   "metadata": {},
   "outputs": [],
   "source": []
  }
 ],
 "metadata": {
  "kernelspec": {
   "display_name": "Python 3",
   "language": "python",
   "name": "python3"
  },
  "language_info": {
   "codemirror_mode": {
    "name": "ipython",
    "version": 3
   },
   "file_extension": ".py",
   "mimetype": "text/x-python",
   "name": "python",
   "nbconvert_exporter": "python",
   "pygments_lexer": "ipython3",
   "version": "3.11.3"
  },
  "orig_nbformat": 4
 },
 "nbformat": 4,
 "nbformat_minor": 2
}
